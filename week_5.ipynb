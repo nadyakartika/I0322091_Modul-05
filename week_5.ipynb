{
 "cells": [
  {
   "cell_type": "code",
   "execution_count": 1,
   "metadata": {},
   "outputs": [
    {
     "name": "stdout",
     "output_type": "stream",
     "text": [
      "senin = gula\n",
      "selasa = garam\n",
      "rabu = beras\n",
      "kamis = kecap\n",
      "jumat = saus\n",
      "sabtu = gula\n"
     ]
    }
   ],
   "source": [
    "#buatlah list hari dalam seminggu\n",
    "#buat perulangan yang menyatakan pergi belanja kecuali di hari minggu\n",
    "#daftar belanja = [gula, garam, beras, kecap, saus]\n",
    "#print masing masing daftar dalam setiap baris\n",
    "\n",
    "hari = [\"senin\", \"selasa\", \"rabu\", \"kamis\", \"jumat\", \"sabtu\"]\n",
    "daftar_belanja = [\"gula\", \"garam\", \"beras\", \"kecap\", \"saus\"]\n",
    "\n",
    "i = 0 \n",
    "for j in hari:\n",
    "    if j == \"minggu\" :\n",
    "        print(\"Tidak belanja\")\n",
    "        continue\n",
    "    print(j , \"=\", daftar_belanja[i])\n",
    "    i = i+1 \n",
    "    if i == 5:\n",
    "        i = 0\n",
    "\n",
    "\n"
   ]
  }
 ],
 "metadata": {
  "kernelspec": {
   "display_name": "Python 3",
   "language": "python",
   "name": "python3"
  },
  "language_info": {
   "codemirror_mode": {
    "name": "ipython",
    "version": 3
   },
   "file_extension": ".py",
   "mimetype": "text/x-python",
   "name": "python",
   "nbconvert_exporter": "python",
   "pygments_lexer": "ipython3",
   "version": "3.11.2"
  },
  "orig_nbformat": 4
 },
 "nbformat": 4,
 "nbformat_minor": 2
}
